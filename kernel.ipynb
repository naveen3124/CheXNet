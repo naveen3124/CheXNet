{
 "cells": [
  {
   "cell_type": "markdown",
   "metadata": {
    "_cell_guid": "14a5ded8-7744-46d7-a7a1-e2dfe5cbe947",
    "_uuid": "af5f6b18cd29ecd0cb8050d2b97195885b716148"
   },
   "source": [
    "**Predicting Pathologies In X-Ray Images**  *--work in progress--*"
   ]
  },
  {
   "cell_type": "markdown",
   "metadata": {
    "_cell_guid": "1a01cf7d-4ddd-4ee3-b6f6-6e9e04777d33",
    "_uuid": "d84bc263d4006c32862d766a2517588c74e8ed08"
   },
   "source": [
    "The NIH Clinical Center recently released over 100,000 anonymized chest x-ray images and their corresponding data to the scientific community. The release will allow researchers across the country and around the world to freely access the datasets and increase their ability to teach computers how to detect and diagnose disease. Ultimately, this artificial intelligence mechanism can lead to clinicians making better diagnostic decisions for patients.   \n",
    "\n",
    "https://www.nih.gov/news-events/news-releases/nih-clinical-center-provides-one-largest-publicly-available-chest-x-ray-datasets-scientific-community\n",
    "\n",
    "https://stanfordmlgroup.github.io/projects/chexnet/"
   ]
  },
  {
   "cell_type": "code",
   "execution_count": null,
   "metadata": {
    "_cell_guid": "585e543b-d02f-4ff6-b78a-746f917dbe0f",
    "_kg_hide-input": true,
    "_uuid": "d703d77ba8ce1398e6dd328aedd680b934aa1c16",
    "collapsed": true
   },
   "outputs": [],
   "source": [
    "import pandas as pd\n",
    "import numpy as np\n",
    "import os\n",
    "from glob import glob\n",
    "import random\n",
    "import matplotlib.pylab as plt\n",
    "import cv2\n",
    "import matplotlib.gridspec as gridspec\n",
    "import seaborn as sns\n",
    "import zlib\n",
    "import itertools\n",
    "import sklearn\n",
    "from sklearn import model_selection\n",
    "from sklearn.model_selection import train_test_split\n",
    "from sklearn.model_selection import learning_curve\n",
    "from sklearn.model_selection import KFold\n",
    "from sklearn.model_selection import cross_val_score\n",
    "from sklearn.model_selection import StratifiedKFold\n",
    "from sklearn.utils import class_weight\n",
    "from sklearn.metrics import confusion_matrix\n",
    "import keras\n",
    "from keras.models import Sequential\n",
    "from keras.optimizers import SGD, RMSprop, Adam, Adagrad, Adadelta\n",
    "from keras.layers import Dense, Activation, Dropout\n",
    "from keras.utils.np_utils import to_categorical\n",
    "from keras.models import Sequential\n",
    "from keras.layers import Activation,Dense, Dropout, Flatten, Conv2D, MaxPool2D,MaxPooling2D,AveragePooling2D, BatchNormalization\n",
    "from keras.optimizers import RMSprop\n",
    "from keras.preprocessing.image import ImageDataGenerator\n",
    "from keras.callbacks import ReduceLROnPlateau, ModelCheckpoint\n",
    "from keras.models import model_from_json\n",
    "from keras import backend as K\n",
    "from keras.layers import Conv2D, MaxPooling2D\n",
    "from keras.applications.mobilenet import MobileNet"
   ]
  },
  {
   "cell_type": "markdown",
   "metadata": {
    "_cell_guid": "5411efb9-6888-4cb0-afcd-eb89daa9fdb6",
    "_uuid": "84f6ea7c5c644a344965992cd726b57eeb7f7393"
   },
   "source": [
    "Load the data"
   ]
  },
  {
   "cell_type": "code",
   "execution_count": null,
   "metadata": {
    "_cell_guid": "e779528a-cb1b-408a-9ff9-61c5df9e201d",
    "_uuid": "ab4c84025f96f8696fe54bfd9c013f0eeb0166e0",
    "collapsed": true
   },
   "outputs": [],
   "source": [
    "PATH = os.path.abspath(os.path.join('..', 'input/sample/'))\n",
    "SOURCE_IMAGES = os.path.join(PATH, \"sample\", \"images\")\n",
    "images = glob(os.path.join(SOURCE_IMAGES, \"*.png\"))\n",
    "\n",
    "images[0:10]"
   ]
  },
  {
   "cell_type": "code",
   "execution_count": null,
   "metadata": {
    "_cell_guid": "9454f462-7785-48ff-bc09-4e290bd36985",
    "_uuid": "8cc29e2914239e690d0db8c4d2ca215765dd54f9",
    "collapsed": true,
    "scrolled": true
   },
   "outputs": [],
   "source": [
    "labels = pd.read_csv('../input/sample/sample_labels.csv')\n",
    "labels.head(10)"
   ]
  },
  {
   "cell_type": "markdown",
   "metadata": {
    "_cell_guid": "dbcc4926-be51-4256-91d1-bc39eace0a01",
    "_uuid": "3601a7cd6b5178cc9037bbfc55a7ba1145e15a21"
   },
   "source": [
    "Plot a representative image"
   ]
  },
  {
   "cell_type": "markdown",
   "metadata": {
    "_cell_guid": "3fa57fbb-13d1-4bff-9339-7f0bbdce741d",
    "_uuid": "54bc8a9333d23c67a2cb364ff6095da0dea827bc"
   },
   "source": [
    "It should be noted that these images require some significant pre-processing and/or relabeling for best results.  For this exercise we will do only minimal pre-processing of the images.  See the following blogpost for more detail about specific challenges associated with this dataset: https://lukeoakdenrayner.wordpress.com/2017/12/18/the-chestxray14-dataset-problems/. "
   ]
  },
  {
   "cell_type": "code",
   "execution_count": null,
   "metadata": {
    "_cell_guid": "eccd920a-0ebe-4239-8a0c-b4e5fd013a33",
    "_uuid": "0f721fcdd0da190ae6c2b0f5babce5d0d074264d",
    "collapsed": true,
    "scrolled": true
   },
   "outputs": [],
   "source": [
    "multipleImages = glob('/kaggle/input/sample/sample/images/**')\n",
    "i_ = 0\n",
    "plt.rcParams['figure.figsize'] = (10.0, 10.0)\n",
    "plt.subplots_adjust(wspace=0, hspace=0)\n",
    "for l in multipleImages[:25]:\n",
    "    im = cv2.imread(l)\n",
    "    im = cv2.resize(im, (128, 128)) \n",
    "    plt.subplot(5, 5, i_+1) #.set_title(l)\n",
    "    plt.imshow(cv2.cvtColor(im, cv2.COLOR_BGR2RGB)); plt.axis('off')\n",
    "    i_ += 1"
   ]
  },
  {
   "cell_type": "code",
   "execution_count": null,
   "metadata": {
    "_cell_guid": "2f68ff5b-2077-45ab-97e4-fca4e36c6ddd",
    "_uuid": "73b95b61062d59a6f46ff5f4ae9b58b96669ada1",
    "collapsed": true
   },
   "outputs": [],
   "source": [
    "r = random.sample(images, 3)\n",
    "plt.figure(figsize=(16,16))\n",
    "plt.subplot(131)\n",
    "plt.imshow(cv2.imread(r[0]))\n",
    "plt.subplot(132)\n",
    "plt.imshow(cv2.imread(r[1]))\n",
    "plt.subplot(133)\n",
    "plt.imshow(cv2.imread(r[2])); "
   ]
  },
  {
   "cell_type": "markdown",
   "metadata": {
    "_cell_guid": "ae014fcf-d116-425d-ba16-5d8743579d29",
    "_uuid": "6bc77ece46e00762b4323a359aca64f73c04355b"
   },
   "source": [
    "What types of ailments are identified in these annotated X-ray images?"
   ]
  },
  {
   "cell_type": "code",
   "execution_count": null,
   "metadata": {
    "_cell_guid": "77d42b59-f0ee-43a2-8f2b-b1b9dde432e9",
    "_uuid": "8ef45178460515a1f74b55a6bbae39434f5bfa03",
    "collapsed": true
   },
   "outputs": [],
   "source": [
    "labels = pd.read_csv('../input/sample/sample_labels.csv')\n",
    "labels.head(10)"
   ]
  },
  {
   "cell_type": "code",
   "execution_count": null,
   "metadata": {
    "_cell_guid": "86a3bd9f-5b45-4954-b175-5c35c6e38317",
    "_uuid": "831f2478f5b7f6f0b37fab17012338e02a44ccbd",
    "collapsed": true
   },
   "outputs": [],
   "source": [
    "#drop unused columns\n",
    "labels = labels[['Image Index','Finding Labels','Follow-up #','Patient ID','Patient Age','Patient Gender']]\n",
    "#create new columns for each decease\n",
    "pathology_list = ['Cardiomegaly','Emphysema','Effusion','Hernia','Nodule','Pneumothorax','Atelectasis','Pleural_Thickening','Mass','Edema','Consolidation','Infiltration','Fibrosis','Pneumonia']\n",
    "for pathology in pathology_list :\n",
    "    labels[pathology] = labels['Finding Labels'].apply(lambda x: 1 if pathology in x else 0)\n",
    "#remove Y after age\n",
    "labels['Age']=labels['Patient Age'].apply(lambda x: x[:-1]).astype(int)\n",
    "\n",
    "plt.figure(figsize=(15,10))\n",
    "gs = gridspec.GridSpec(8,1)\n",
    "ax1 = plt.subplot(gs[:7, :])\n",
    "ax2 = plt.subplot(gs[7, :])\n",
    "data1 = pd.melt(labels,\n",
    "             id_vars=['Patient Gender'],\n",
    "             value_vars = list(pathology_list),\n",
    "             var_name = 'Category',\n",
    "             value_name = 'Count')\n",
    "data1 = data1.loc[data1.Count>0]\n",
    "g=sns.countplot(y='Category',hue='Patient Gender',data=data1, ax=ax1, order = data1['Category'].value_counts().index)\n",
    "ax1.set( ylabel=\"\",xlabel=\"\")\n",
    "ax1.legend(fontsize=20)\n",
    "ax1.set_title('X Ray partition',fontsize=18);\n",
    "\n",
    "labels['Nothing']=labels['Finding Labels'].apply(lambda x: 1 if 'No Finding' in x else 0)\n",
    "\n",
    "data2 = pd.melt(labels,\n",
    "             id_vars=['Patient Gender'],\n",
    "             value_vars = list(['Nothing']),\n",
    "             var_name = 'Category',\n",
    "             value_name = 'Count')\n",
    "data2 = data2.loc[data2.Count>0]\n",
    "g=sns.countplot(y='Category',hue='Patient Gender',data=data2,ax=ax2)\n",
    "ax2.set( ylabel=\"\",xlabel=\"Number of decease\")\n",
    "ax2.legend('')\n",
    "plt.subplots_adjust(hspace=.5)"
   ]
  },
  {
   "cell_type": "code",
   "execution_count": null,
   "metadata": {
    "_cell_guid": "2e0706a0-21eb-40ba-8c13-9913b36faf3a",
    "_uuid": "05d5e17451c329163faf04a46d21f1799c0cf0f4",
    "collapsed": true
   },
   "outputs": [],
   "source": [
    "df=labels\n",
    "data=df.groupby('Finding Labels').count().sort_values('Patient ID',ascending=False)\n",
    "df1=data[['|' in index for index in data.index]].copy()\n",
    "df2=data[['|' not in index for index in data.index]]\n",
    "df2=df2[['No Finding' not in index for index in df2.index]]\n",
    "df2['Finding Labels']=df2.index.values\n",
    "df1['Finding Labels']=df1.index.values\n",
    "\n",
    "f, ax = plt.subplots(sharex=True,figsize=(15, 10))\n",
    "g=sns.countplot(y='Category',data=data1, ax=ax, order = data1['Category'].value_counts().index,color='b',label=\"Multiple Pathologies\")\n",
    "sns.set_color_codes(\"muted\")\n",
    "g=sns.barplot(x='Patient ID',y='Finding Labels',data=df2, ax=ax, color=\"r\",label=\"Single Pathology\")\n",
    "ax.legend(ncol=2, loc=\"center right\", frameon=True,fontsize=20)\n",
    "ax.set( ylabel=\"\",xlabel=\"Number of Patients\")\n",
    "ax.set_title(\"Comparaison between Single or Multiple Pathologies\",fontsize=20)      \n",
    "sns.despine(left=True)"
   ]
  },
  {
   "cell_type": "markdown",
   "metadata": {
    "_cell_guid": "661da6c5-b296-44de-b4e3-fba40a77b635",
    "_uuid": "41d608661473264d3187e4e60448a05bc598e03f"
   },
   "source": [
    "Convert annotated .png images into labeled numpy arrays.  Discard all images with more than one pathology."
   ]
  },
  {
   "cell_type": "code",
   "execution_count": null,
   "metadata": {
    "_cell_guid": "90e123ca-ed1f-476b-a075-a4c7535aa005",
    "_uuid": "a8874a0cca8c84f9098fe62a8173694cd4fe2b36",
    "collapsed": true
   },
   "outputs": [],
   "source": [
    "df=labels\n",
    "data=df.groupby('Finding Labels').count().sort_values('Patient ID',ascending=False)\n",
    "df1=data[['|' in index for index in data.index]].copy()\n",
    "df2=data[['|' not in index for index in data.index]]"
   ]
  },
  {
   "cell_type": "code",
   "execution_count": null,
   "metadata": {
    "_cell_guid": "765d5e31-0a17-434e-8ba4-4abbc09becca",
    "_uuid": "7e0e1cade7fdaad0677ee3326d35bb25816c3cfc",
    "collapsed": true
   },
   "outputs": [],
   "source": [
    "def proc_images():\n",
    "    \"\"\"\n",
    "    Returns two arrays: \n",
    "        x is an array of resized images\n",
    "        y is an array of labels\n",
    "    \"\"\"\n",
    "    NoFinding = \"No Finding\" #0\n",
    "    Consolidation=\"Consolidation\" #1\n",
    "    Infiltration=\"Infiltration\" #2\n",
    "    Pneumothorax=\"Pneumothorax\" #3\n",
    "    Edema=\"Edema\" # 7\n",
    "    Emphysema=\"Emphysema\" #7\n",
    "    Fibrosis=\"Fibrosis\" #7\n",
    "    Effusion=\"Effusion\" #4\n",
    "    Pneumonia=\"Pneumonia\" #7\n",
    "    Pleural_Thickening=\"Pleural_Thickening\" #7\n",
    "    Cardiomegaly=\"Cardiomegaly\" #7\n",
    "    NoduleMass=\"Nodule\" #5\n",
    "    Hernia=\"Hernia\" #7\n",
    "    Atelectasis=\"Atelectasis\"  #6 \n",
    "    RareClass = [\"Edema\", \"Emphysema\", \"Fibrosis\", \"Pneumonia\", \"Pleural_Thickening\", \"Cardiomegaly\",\"Hernia\"]\n",
    "    x = [] # images as arrays\n",
    "    y = [] # labels\n",
    "    WIDTH = 128\n",
    "    HEIGHT = 128\n",
    "    for img in images:\n",
    "        base = os.path.basename(img)\n",
    "        # Read and resize image\n",
    "        full_size_image = cv2.imread(img)\n",
    "        finding = labels[\"Finding Labels\"][labels[\"Image Index\"] == base].values[0]\n",
    "        symbol = \"|\"\n",
    "        if symbol in finding:\n",
    "            continue\n",
    "        else:\n",
    "            if NoFinding in finding:\n",
    "                finding = 0\n",
    "                #y.append(finding)\n",
    "                #x.append(cv2.resize(full_size_image, (WIDTH,HEIGHT), interpolation=cv2.INTER_CUBIC))      \n",
    "            elif Consolidation in finding:\n",
    "                finding = 1\n",
    "                y.append(finding)\n",
    "                x.append(cv2.resize(full_size_image, (WIDTH,HEIGHT), interpolation=cv2.INTER_CUBIC))\n",
    "            elif Infiltration in finding:\n",
    "                finding = 2\n",
    "                y.append(finding)\n",
    "                x.append(cv2.resize(full_size_image, (WIDTH,HEIGHT), interpolation=cv2.INTER_CUBIC))\n",
    "            elif Pneumothorax in finding:\n",
    "                finding = 3\n",
    "                y.append(finding)\n",
    "                x.append(cv2.resize(full_size_image, (WIDTH,HEIGHT), interpolation=cv2.INTER_CUBIC))\n",
    "            elif Edema in finding:\n",
    "                finding = 7\n",
    "                y.append(finding)\n",
    "                x.append(cv2.resize(full_size_image, (WIDTH,HEIGHT), interpolation=cv2.INTER_CUBIC))\n",
    "            elif Emphysema in finding:\n",
    "                finding = 7\n",
    "                y.append(finding)\n",
    "                x.append(cv2.resize(full_size_image, (WIDTH,HEIGHT), interpolation=cv2.INTER_CUBIC))\n",
    "            elif Fibrosis in finding:\n",
    "                finding = 7\n",
    "                y.append(finding)\n",
    "                x.append(cv2.resize(full_size_image, (WIDTH,HEIGHT), interpolation=cv2.INTER_CUBIC))\n",
    "            elif Effusion in finding:\n",
    "                finding = 4\n",
    "                y.append(finding)\n",
    "                x.append(cv2.resize(full_size_image, (WIDTH,HEIGHT), interpolation=cv2.INTER_CUBIC))\n",
    "            elif Pneumonia in finding:\n",
    "                finding = 7\n",
    "                y.append(finding)\n",
    "                x.append(cv2.resize(full_size_image, (WIDTH,HEIGHT), interpolation=cv2.INTER_CUBIC))\n",
    "            elif Pleural_Thickening in finding:\n",
    "                finding = 7\n",
    "                y.append(finding)\n",
    "                x.append(cv2.resize(full_size_image, (WIDTH,HEIGHT), interpolation=cv2.INTER_CUBIC))\n",
    "            elif Cardiomegaly in finding:\n",
    "                finding = 7\n",
    "                y.append(finding)\n",
    "                x.append(cv2.resize(full_size_image, (WIDTH,HEIGHT), interpolation=cv2.INTER_CUBIC))\n",
    "            elif NoduleMass in finding:\n",
    "                finding = 5\n",
    "                y.append(finding)\n",
    "                x.append(cv2.resize(full_size_image, (WIDTH,HEIGHT), interpolation=cv2.INTER_CUBIC))\n",
    "            elif Hernia in finding:\n",
    "                finding = 7\n",
    "                y.append(finding)\n",
    "                x.append(cv2.resize(full_size_image, (WIDTH,HEIGHT), interpolation=cv2.INTER_CUBIC))\n",
    "            elif Atelectasis in finding:\n",
    "                finding = 6\n",
    "                y.append(finding)\n",
    "                x.append(cv2.resize(full_size_image, (WIDTH,HEIGHT), interpolation=cv2.INTER_CUBIC))\n",
    "            else:\n",
    "                continue\n",
    "    return x,y"
   ]
  },
  {
   "cell_type": "code",
   "execution_count": null,
   "metadata": {
    "_cell_guid": "a96ec2f8-819d-4915-9417-3b5c558b3a30",
    "_uuid": "6729fc82857b68767aa2cc9708ce78a8491d906a",
    "collapsed": true
   },
   "outputs": [],
   "source": [
    "X,y = proc_images()\n",
    "df = pd.DataFrame()\n",
    "df[\"images\"]=X\n",
    "df[\"labels\"]=y\n",
    "print(len(df), df.images[0].shape)\n",
    "print(type(X))"
   ]
  },
  {
   "cell_type": "markdown",
   "metadata": {
    "_cell_guid": "e5bea62c-a1a4-4578-8ea0-bf7619c3cae0",
    "_uuid": "5358d2240be847464db555c481fd78570275f512"
   },
   "source": [
    "Describe new numpy arrays"
   ]
  },
  {
   "cell_type": "code",
   "execution_count": null,
   "metadata": {
    "_cell_guid": "4736747c-6a40-4fbc-94be-ab188a99e0af",
    "_uuid": "72d1c333d3f15537df56c90656e1371d521c030a",
    "collapsed": true
   },
   "outputs": [],
   "source": [
    "dict_characters = {1: 'Consolidation', 2: 'Infiltration', \n",
    "        3: 'Pneumothorax', 4:'Effusion', 5: 'Nodule Mass', 6: 'Atelectasis', 7: \"Other Rare Classes\"}\n",
    "\n",
    "print(df.head(10))\n",
    "print(\"\")\n",
    "print(dict_characters)"
   ]
  },
  {
   "cell_type": "markdown",
   "metadata": {
    "_cell_guid": "de6e66bf-6c6d-4d0d-8622-7ad3d5eca805",
    "_uuid": "855243c5294d51f809735355af165ebac9419730"
   },
   "source": [
    "Describe the distribution of pixel intensities within a representative image"
   ]
  },
  {
   "cell_type": "code",
   "execution_count": null,
   "metadata": {
    "_cell_guid": "0d0500ea-4310-49c8-af7f-46d8e8848fb8",
    "_uuid": "6438d46151b3a8f0cd18a99f9ce06a7d99e7624e",
    "collapsed": true
   },
   "outputs": [],
   "source": [
    "def plotHistogram(a):\n",
    "    \"\"\"\n",
    "    Plot histogram of RGB Pixel Intensities\n",
    "    \"\"\"\n",
    "    plt.figure(figsize=(10,5))\n",
    "    plt.subplot(1,2,1)\n",
    "    plt.title('Representative Image')\n",
    "    b = cv2.resize(a, (512,512))\n",
    "    plt.imshow(b)\n",
    "    plt.axis('off')\n",
    "    histo = plt.subplot(1,2,2)\n",
    "    histo.set_ylabel('Count')\n",
    "    histo.set_xlabel('Pixel Intensity')\n",
    "    n_bins = 30\n",
    "    plt.hist(a[:,:,0].flatten(), bins= n_bins, lw = 0, color='r', alpha=0.5);\n",
    "    plt.hist(a[:,:,1].flatten(), bins= n_bins, lw = 0, color='g', alpha=0.5);\n",
    "    plt.hist(a[:,:,2].flatten(), bins= n_bins, lw = 0, color='b', alpha=0.5);\n",
    "plotHistogram(X[1])"
   ]
  },
  {
   "cell_type": "markdown",
   "metadata": {
    "_cell_guid": "a31ce154-b1af-491a-9b4c-b692dfcf5b71",
    "_uuid": "94f38bd7ea78a5d05ec2fe6f082c19f9b282d366"
   },
   "source": [
    "Normalize the pixel intensities between zero and one."
   ]
  },
  {
   "cell_type": "code",
   "execution_count": null,
   "metadata": {
    "_cell_guid": "27aef53a-b2e7-48d3-9bd3-eefef10ac4bf",
    "_uuid": "45576b0f2cae264045648da3a10072746430fa83",
    "collapsed": true
   },
   "outputs": [],
   "source": [
    "X=np.array(X)\n",
    "X=X/255.0\n",
    "plotHistogram(X[1])"
   ]
  },
  {
   "cell_type": "markdown",
   "metadata": {
    "_cell_guid": "b0aed36e-f20c-418e-8775-252529719c87",
    "_uuid": "ebd24913ed1c03798e8fe95df7620f57d961d69f"
   },
   "source": [
    "Describe distribution of class labels"
   ]
  },
  {
   "cell_type": "code",
   "execution_count": null,
   "metadata": {
    "_cell_guid": "2d7fa292-92bb-4f89-9473-97cbc222ac64",
    "_uuid": "f70fd3d49148f917b4cff17117fd3b434248b72a",
    "collapsed": true
   },
   "outputs": [],
   "source": [
    "lab = df['labels']\n",
    "dist = lab.value_counts()\n",
    "sns.countplot(lab)\n",
    "print(dict_characters)\n",
    "#print(dist)"
   ]
  },
  {
   "cell_type": "markdown",
   "metadata": {
    "_cell_guid": "1b7e7a67-4503-492f-a40b-6023f370a9bc",
    "_uuid": "64f919c9f991a227bb915c1729de3d59e2ea557a"
   },
   "source": [
    "We have imbalanced sample sizes.  This is a problem that needs to be addressed.\n",
    "\n",
    "But for now we can proceed with a preliminary analysis."
   ]
  },
  {
   "cell_type": "code",
   "execution_count": null,
   "metadata": {
    "_cell_guid": "3ffa380e-f815-4bbb-badf-7f976e8c4fee",
    "_uuid": "705a7ea6da6ab0c74b91a69ae6e0dab8567769d1",
    "collapsed": true
   },
   "outputs": [],
   "source": [
    "X_train, X_test, Y_train, Y_test = train_test_split(X, y, test_size=0.2)\n",
    "# Reduce Sample Size for DeBugging\n",
    "X_train = X_train[0:5000] \n",
    "Y_train = Y_train[0:5000]\n",
    "X_test = X_test[0:2000] \n",
    "Y_test = Y_test[0:2000]"
   ]
  },
  {
   "cell_type": "code",
   "execution_count": null,
   "metadata": {
    "_cell_guid": "6d5a4e75-d8fb-4897-b6b8-401fb082b72b",
    "_uuid": "18ef548edb3ebee434a5d2c88022d04444b32d6f",
    "collapsed": true
   },
   "outputs": [],
   "source": [
    "print(\"Training Data Shape:\", X_train.shape)\n",
    "print(\"Testing Data Shape:\", X_test.shape)\n",
    "print(\"Training Data Shape:\", len(X_train), X_train[0].shape)\n",
    "print(\"Testing Data Shape:\", len(X_test), X_test[0].shape)"
   ]
  },
  {
   "cell_type": "markdown",
   "metadata": {
    "_cell_guid": "b086a703-969e-450c-9040-6b4515cc7ec5",
    "_uuid": "73ba314626afbfa2d83f2a91db7a52bb5236b1d1"
   },
   "source": [
    "Now I will try to use a CNN to predict each ailment based off of the X-Ray image."
   ]
  },
  {
   "cell_type": "code",
   "execution_count": null,
   "metadata": {
    "_cell_guid": "a791729e-db89-4fee-9348-35cc35056835",
    "_uuid": "387d7c376f18bc5b14ac7859c6da95dddc9e4fd3",
    "collapsed": true
   },
   "outputs": [],
   "source": [
    "# Encode labels to hot vectors (ex : 2 -> [0,0,1,0,0,0,0,0,0,0])\n",
    "Y_trainHot = to_categorical(Y_train, num_classes = 8)\n",
    "Y_testHot = to_categorical(Y_test, num_classes = 8)"
   ]
  },
  {
   "cell_type": "markdown",
   "metadata": {
    "_cell_guid": "705f4edc-65cb-4e72-b574-18e7b0edd474",
    "_uuid": "cf638745b03fb7d335f0b7263d5f86f09249c21a"
   },
   "source": [
    "In order to avoid having a biased model because of skewed class sizes, I will modify the class_weights parameter in order to give more weight to the rare classes.  In this case the class_weights parameter will eventually be passed to the model.fit function."
   ]
  },
  {
   "cell_type": "code",
   "execution_count": null,
   "metadata": {
    "_cell_guid": "336f519a-8498-4f31-972b-92821285c592",
    "_uuid": "0916cc3df986ee2018608659f91e53b228a0e868",
    "collapsed": true
   },
   "outputs": [],
   "source": [
    "from sklearn.utils import class_weight\n",
    "class_weight = class_weight.compute_class_weight('balanced', np.unique(y), y)\n",
    "print(class_weight)"
   ]
  },
  {
   "cell_type": "code",
   "execution_count": null,
   "metadata": {
    "_cell_guid": "9c3d3492-95e6-47b3-a5fa-5fa45a202c8e",
    "_uuid": "59ba85f24ea7fa7bbf0241807c33397549b10d94",
    "collapsed": true
   },
   "outputs": [],
   "source": [
    "# Helper Functions  Learning Curves and Confusion Matrix\n",
    "\n",
    "from keras.callbacks import Callback, EarlyStopping, ReduceLROnPlateau, ModelCheckpoint\n",
    "\n",
    "class MetricsCheckpoint(Callback):\n",
    "    \"\"\"Callback that saves metrics after each epoch\"\"\"\n",
    "    def __init__(self, savepath):\n",
    "        super(MetricsCheckpoint, self).__init__()\n",
    "        self.savepath = savepath\n",
    "        self.history = {}\n",
    "    def on_epoch_end(self, epoch, logs=None):\n",
    "        for k, v in logs.items():\n",
    "            self.history.setdefault(k, []).append(v)\n",
    "        np.save(self.savepath, self.history)\n",
    "\n",
    "def plotKerasLearningCurve():\n",
    "    plt.figure(figsize=(10,5))\n",
    "    metrics = np.load('logs.npy')[()]\n",
    "    filt = ['acc'] # try to add 'loss' to see the loss learning curve\n",
    "    for k in filter(lambda x : np.any([kk in x for kk in filt]), metrics.keys()):\n",
    "        l = np.array(metrics[k])\n",
    "        plt.plot(l, c= 'r' if 'val' not in k else 'b', label='val' if 'val' in k else 'train')\n",
    "        x = np.argmin(l) if 'loss' in k else np.argmax(l)\n",
    "        y = l[x]\n",
    "        plt.scatter(x,y, lw=0, alpha=0.25, s=100, c='r' if 'val' not in k else 'b')\n",
    "        plt.text(x, y, '{} = {:.4f}'.format(x,y), size='15', color= 'r' if 'val' not in k else 'b')   \n",
    "    plt.legend(loc=4)\n",
    "    plt.axis([0, None, None, None]);\n",
    "    plt.grid()\n",
    "    plt.xlabel('Number of epochs')\n",
    "\n",
    "def plot_confusion_matrix(cm, classes,\n",
    "                          normalize=False,\n",
    "                          title='Confusion matrix',\n",
    "                          cmap=plt.cm.Blues):\n",
    "    \"\"\"\n",
    "    This function prints and plots the confusion matrix.\n",
    "    Normalization can be applied by setting `normalize=True`.\n",
    "    \"\"\"\n",
    "    plt.figure(figsize = (5,5))\n",
    "    plt.imshow(cm, interpolation='nearest', cmap=cmap)\n",
    "    plt.title(title)\n",
    "    plt.colorbar()\n",
    "    tick_marks = np.arange(len(classes))\n",
    "    plt.xticks(tick_marks, classes, rotation=90)\n",
    "    plt.yticks(tick_marks, classes)\n",
    "    if normalize:\n",
    "        cm = cm.astype('float') / cm.sum(axis=1)[:, np.newaxis]\n",
    "\n",
    "    thresh = cm.max() / 2.\n",
    "    for i, j in itertools.product(range(cm.shape[0]), range(cm.shape[1])):\n",
    "        plt.text(j, i, cm[i, j],\n",
    "                 horizontalalignment=\"center\",\n",
    "                 color=\"white\" if cm[i, j] > thresh else \"black\")\n",
    "    plt.tight_layout()\n",
    "    plt.ylabel('True label')\n",
    "    plt.xlabel('Predicted label')\n",
    "\n",
    "def plot_learning_curve(history):\n",
    "    plt.figure(figsize=(8,8))\n",
    "    plt.subplot(1,2,1)\n",
    "    plt.plot(history.history['acc'])\n",
    "    plt.plot(history.history['val_acc'])\n",
    "    plt.title('model accuracy')\n",
    "    plt.ylabel('accuracy')\n",
    "    plt.xlabel('epoch')\n",
    "    plt.legend(['train', 'test'], loc='upper left')\n",
    "    plt.savefig('./accuracy_curve.png')\n",
    "    #plt.clf()\n",
    "    # summarize history for loss\n",
    "    plt.subplot(1,2,2)\n",
    "    plt.plot(history.history['loss'])\n",
    "    plt.plot(history.history['val_loss'])\n",
    "    plt.title('model loss')\n",
    "    plt.ylabel('loss')\n",
    "    plt.xlabel('epoch')\n",
    "    plt.legend(['train', 'test'], loc='upper left')\n",
    "    plt.savefig('./loss_curve.png')"
   ]
  },
  {
   "cell_type": "code",
   "execution_count": null,
   "metadata": {
    "_cell_guid": "0a4269c3-393c-47a2-a34f-27ff64f49fd9",
    "_uuid": "1cd13911f68387a58c55bfe444786619752152fe",
    "collapsed": true
   },
   "outputs": [],
   "source": [
    "def runCNNconfusion(a,b,c,d,e,f,g,h):\n",
    "    # In -> [[Conv2D->relu]*2 -> MaxPool2D -> Dropout]*2 -> Flatten -> Dense -> Dropout -> Out\n",
    "    batch_size = 128\n",
    "    num_classes = f\n",
    "    epochs = g\n",
    "    #img_rows, img_cols = X_train.shape[1],b.shape[2]\n",
    "    input_shape = (128, 128, 3)\n",
    "    model = Sequential()\n",
    "    model.add(Conv2D(filters = 32, kernel_size = (3,3),padding = 'Same', \n",
    "                     activation ='relu', input_shape = input_shape,strides=h))\n",
    "    model.add(Conv2D(filters = 32, kernel_size = (3,3),padding = 'Same', \n",
    "                     activation ='relu'))\n",
    "    model.add(MaxPool2D(pool_size=(2,2)))\n",
    "    model.add(BatchNormalization())\n",
    "    model.add(Dropout(0.25))\n",
    "    model.add(Conv2D(filters = 128, kernel_size = (3,3),padding = 'Same', \n",
    "                     activation ='relu'))\n",
    "    model.add(Conv2D(filters = 128, kernel_size = (3,3),padding = 'Same', \n",
    "                     activation ='relu'))\n",
    "    model.add(MaxPool2D(pool_size=(2,2)))\n",
    "    model.add(BatchNormalization())\n",
    "    model.add(Dropout(0.25))\n",
    "    model.add(Conv2D(filters = 86, kernel_size = (3,3),padding = 'Same', \n",
    "                     activation ='relu'))\n",
    "    model.add(Conv2D(filters = 86, kernel_size = (3,3),padding = 'Same', \n",
    "                     activation ='relu'))\n",
    "    model.add(MaxPool2D(pool_size=(2,2)))\n",
    "    model.add(BatchNormalization())\n",
    "    model.add(Dropout(0.25))\n",
    "    model.add(Flatten())\n",
    "    #model.add(Dense(1024, activation = \"relu\"))\n",
    "    #model.add(Dropout(0.5))\n",
    "    model.add(Dense(512, activation = \"relu\"))\n",
    "    model.add(Dropout(0.5))\n",
    "    model.add(Dense(num_classes, activation = \"softmax\"))\n",
    "    # Define the optimizer\n",
    "    optimizer = Adagrad()\n",
    "    model.compile(optimizer = optimizer , loss = \"categorical_crossentropy\", metrics=[\"accuracy\"])\n",
    "    datagen = ImageDataGenerator(\n",
    "        featurewise_center=False,  # set input mean to 0 over the dataset\n",
    "        samplewise_center=True,  # set each sample mean to 0\n",
    "        featurewise_std_normalization=False,  # divide inputs by std of the dataset\n",
    "        samplewise_std_normalization=False,  # divide each input by its std\n",
    "        zca_whitening=False,  # apply ZCA whitening\n",
    "        rotation_range=40,  # randomly rotate images in the range (degrees, 0 to 180)\n",
    "        width_shift_range=0.4,  # randomly shift images horizontally (fraction of total width)\n",
    "        height_shift_range=0.4,  # randomly shift images vertically (fraction of total height)\n",
    "        horizontal_flip=True,  # randomly flip images\n",
    "        vertical_flip=False)  # randomly flip images\n",
    "    datagen.fit(a)\n",
    "    history = model.fit_generator(datagen.flow(a,b, batch_size=32),\n",
    "                        steps_per_epoch=len(a) / 32, epochs=epochs, class_weight = e,  validation_data = [c, d],callbacks = [MetricsCheckpoint('logs')])\n",
    "    score = model.evaluate(c,d, verbose=0) \n",
    "    plot_learning_curve(history)\n",
    "    plt.show()\n",
    "    plotKerasLearningCurve()\n",
    "    plt.show()\n",
    "    print('\\nKeras CNN #2B - accuracy:', score[1],'\\n')\n",
    "    Y_pred = model.predict(c)\n",
    "    print('\\n', sklearn.metrics.classification_report(np.where(d > 0)[1], np.argmax(Y_pred, axis=1), target_names=list(dict_characters.values())), sep='')    \n",
    "    Y_pred_classes = np.argmax(Y_pred,axis = 1) \n",
    "    Y_true = np.argmax(d,axis = 1) \n",
    "    confusion_mtx = confusion_matrix(Y_true, Y_pred_classes) \n",
    "    plot_confusion_matrix(confusion_mtx, classes = list(dict_characters.values()))\n",
    "    plt.show()\n",
    "#runCNNconfusion(X_train, Y_trainHot, X_test, Y_testHot,class_weight,8,6,1)"
   ]
  },
  {
   "cell_type": "code",
   "execution_count": null,
   "metadata": {
    "_cell_guid": "5f8a5979-838d-4f0e-8b0a-e601a8b660e6",
    "_uuid": "9b46de5b9536718d54f39ed593ee68bbcf53da1e",
    "collapsed": true
   },
   "outputs": [],
   "source": [
    "from keras.applications.vgg16 import VGG16\n",
    "from keras.models import Model\n",
    "weight_path = '../input/keras-pretrained-models/vgg16_weights_tf_dim_ordering_tf_kernels_notop.h5'\n",
    "im_size = 128\n",
    "map_characters=dict_characters\n",
    "def vgg16network(a,b,c,d,e,f,g):\n",
    "    num_class = f\n",
    "    epochs = g\n",
    "    base_model = VGG16(#weights='imagenet',\n",
    "        weights = weight_path, include_top=False, input_shape=(im_size, im_size, 3))\n",
    "    # Add a new top layer\n",
    "    x = base_model.output\n",
    "    x = Flatten()(x)\n",
    "    predictions = Dense(num_class, activation='softmax')(x)\n",
    "    # This is the model we will train\n",
    "    model = Model(inputs=base_model.input, outputs=predictions)\n",
    "    # First: train only the top layers (which were randomly initialized)\n",
    "    for layer in base_model.layers:\n",
    "        layer.trainable = False\n",
    "    model.compile(loss='categorical_crossentropy', \n",
    "                  optimizer=keras.optimizers.RMSprop(lr=0.0001), \n",
    "                  metrics=['accuracy'])\n",
    "    callbacks_list = [keras.callbacks.EarlyStopping(monitor='val_acc', patience=3, verbose=1)]\n",
    "    model.summary()\n",
    "    model.fit(a,b, epochs=epochs, class_weight=e, validation_data=(c,d), verbose=1,callbacks = [MetricsCheckpoint('logs')])\n",
    "    score = model.evaluate(c,d, verbose=0)\n",
    "    print('\\nKeras CNN #2 - accuracy:', score[1], '\\n')\n",
    "    y_pred = model.predict(c)\n",
    "    print('\\n', sklearn.metrics.classification_report(np.where(d > 0)[1], np.argmax(y_pred, axis=1), target_names=list(map_characters.values())), sep='') \n",
    "    Y_pred_classes = np.argmax(y_pred,axis = 1) \n",
    "    Y_true = np.argmax(d,axis = 1) \n",
    "    confusion_mtx = confusion_matrix(Y_true, Y_pred_classes) \n",
    "    plotKerasLearningCurve()\n",
    "    plt.show()\n",
    "    plot_confusion_matrix(confusion_mtx, classes = list(map_characters.values()))\n",
    "    plt.show()\n",
    "    return model\n",
    "#vgg16network(X_train, Y_trainHot, X_test, Y_testHot,class_weight,8,5)"
   ]
  },
  {
   "cell_type": "markdown",
   "metadata": {
    "_cell_guid": "23b67fb9-392c-42db-ae71-d041020830b5",
    "_uuid": "1fa87b6471eac782c671b74d03d9bf8fdfb7de9d"
   },
   "source": [
    "The imbalance in our dataset has resulted in a biased model.  I tried to prevent this by modifying the class_weights parameter and using in the model.fit function but apparently that was not enough.  Now I will try to compensate for the imbalanced sample size by oversampling or upsampling the minority classes."
   ]
  },
  {
   "cell_type": "code",
   "execution_count": null,
   "metadata": {
    "_cell_guid": "1f2b2635-0fac-4a43-94ca-5d19f4d7c38d",
    "_uuid": "8efc5b3a1460ec44e5a40e976fa0a424935b3fb0",
    "collapsed": true
   },
   "outputs": [],
   "source": [
    "lab = df['labels']\n",
    "dist = lab.value_counts()\n",
    "sns.countplot(lab)\n",
    "print(dict_characters)"
   ]
  },
  {
   "cell_type": "markdown",
   "metadata": {
    "_cell_guid": "e5cb5458-1c17-4a75-be12-fb05bfe72cdd",
    "_uuid": "902522528a8e06af26d0f6f635b7306d042496e3"
   },
   "source": [
    "It is very import to do upsampling AFTER the train_test_split function otherwise you can end up with values in the testing dataset that are related to the values within the training dataset."
   ]
  },
  {
   "cell_type": "code",
   "execution_count": null,
   "metadata": {
    "_cell_guid": "939c16e1-c31e-4c3a-8973-cf45987cbf61",
    "_uuid": "9e8fd0135091fb3e2e26e852c41fbe20a2d2574e",
    "collapsed": true
   },
   "outputs": [],
   "source": [
    "X_train, X_test, Y_train, Y_test = train_test_split(X, y, test_size=0.2)\n",
    "# Reduce Sample Size for DeBugging\n",
    "X_train = X_train[0:5000] \n",
    "Y_train = Y_train[0:5000]\n",
    "X_test = X_test[0:2000] \n",
    "Y_test = Y_test[0:2000]"
   ]
  },
  {
   "cell_type": "code",
   "execution_count": null,
   "metadata": {
    "_cell_guid": "c0a627f5-fe92-4a63-b46a-642cf136ab4a",
    "_uuid": "4a925b6f4e899a8cf13fb4ac79c771649a80bf31",
    "collapsed": true
   },
   "outputs": [],
   "source": [
    "# Make Data 1D for compatability upsampling methods\n",
    "X_trainShape = X_train.shape[1]*X_train.shape[2]*X_train.shape[3]\n",
    "X_testShape = X_test.shape[1]*X_test.shape[2]*X_test.shape[3]\n",
    "X_trainFlat = X_train.reshape(X_train.shape[0], X_trainShape)\n",
    "X_testFlat = X_test.reshape(X_test.shape[0], X_testShape)\n",
    "print(\"X_train Shape: \",X_train.shape)\n",
    "print(\"X_test Shape: \",X_test.shape)\n",
    "print(\"X_trainFlat Shape: \",X_trainFlat.shape)\n",
    "print(\"X_testFlat Shape: \",X_testFlat.shape)"
   ]
  },
  {
   "cell_type": "code",
   "execution_count": null,
   "metadata": {
    "_cell_guid": "8b4650f7-1bce-4008-a2ab-191cf063b449",
    "_uuid": "92bfdb43ac864b9de5e8ec4f365902819bc3f48a",
    "collapsed": true
   },
   "outputs": [],
   "source": [
    "from imblearn.over_sampling import RandomOverSampler\n",
    "ros = RandomOverSampler(ratio='auto')\n",
    "X_trainRos, Y_trainRos = ros.fit_sample(X_trainFlat, Y_train)\n",
    "X_testRos, Y_testRos = ros.fit_sample(X_testFlat, Y_test)\n",
    "\n",
    "# Encode labels to hot vectors (ex : 2 -> [0,0,1,0,0,0,0,0,0,0])\n",
    "Y_trainRosHot = to_categorical(Y_trainRos, num_classes = 8)\n",
    "Y_testRosHot = to_categorical(Y_testRos, num_classes = 8)\n",
    "print(\"X_train: \", X_train.shape)\n",
    "print(\"X_trainFlat: \", X_trainFlat.shape)\n",
    "print(\"X_trainRos Shape: \",X_trainRos.shape)\n",
    "print(\"X_testRos Shape: \",X_testRos.shape)\n",
    "print(\"Y_trainRosHot Shape: \",Y_trainRosHot.shape)\n",
    "print(\"Y_testRosHot Shape: \",Y_testRosHot.shape)"
   ]
  },
  {
   "cell_type": "code",
   "execution_count": null,
   "metadata": {
    "_cell_guid": "db3c4af4-a0a7-4dfe-871b-7111a42e1e41",
    "_uuid": "5c3ffcdb87753f3b0aa8135c54c75c0643512f40",
    "collapsed": true
   },
   "outputs": [],
   "source": [
    "for i in range(len(X_trainRos)):\n",
    "    height, width, channels = 128,128,3\n",
    "    X_trainRosReshaped = X_trainRos.reshape(len(X_trainRos),height,width,channels)\n",
    "print(\"X_trainRos Shape: \",X_trainRos.shape)\n",
    "print(\"X_trainRosReshaped Shape: \",X_trainRosReshaped.shape)\n",
    "\n",
    "for i in range(len(X_testRos)):\n",
    "    height, width, channels = 128,128,3\n",
    "    X_testRosReshaped = X_testRos.reshape(len(X_testRos),height,width,channels)\n",
    "print(\"X_testRos Shape: \",X_testRos.shape)\n",
    "print(\"X_testRosReshaped Shape: \",X_testRosReshaped.shape)"
   ]
  },
  {
   "cell_type": "code",
   "execution_count": null,
   "metadata": {
    "_cell_guid": "a767f02c-2bfa-4a75-9035-7ef3cc5cfc78",
    "_uuid": "659a245fccbe24ff457b2c12f4b4be8d85d35416",
    "collapsed": true
   },
   "outputs": [],
   "source": [
    "dfRos = pd.DataFrame()\n",
    "dfRos[\"labels\"]=Y_trainRos\n",
    "labRos = dfRos['labels']\n",
    "distRos = lab.value_counts()\n",
    "sns.countplot(labRos)\n",
    "print(dict_characters)"
   ]
  },
  {
   "cell_type": "markdown",
   "metadata": {
    "_cell_guid": "5aba6477-ec4d-43dd-bc54-88942f8004eb",
    "_uuid": "3bb56b79191780f37fcd0935b10de950e0ac5b5c"
   },
   "source": [
    "Now we have a much more even distriution of sample sizes for each of our 7 ailments (plus an 8th category for other/typos).  This should help make our model less biased in favor of the majority class (0=No Finding)."
   ]
  },
  {
   "cell_type": "code",
   "execution_count": null,
   "metadata": {
    "_cell_guid": "2a201885-aa4a-4cbd-a522-4fbf149a29fa",
    "_uuid": "f811702e7777693eeb37a2bf7b1f14fd799a6c3a",
    "collapsed": true
   },
   "outputs": [],
   "source": [
    "from sklearn.utils import class_weight\n",
    "class_weight = class_weight.compute_class_weight('balanced', np.unique(y), y)\n",
    "print(\"Old Class Weights: \",class_weight)\n",
    "from sklearn.utils import class_weight\n",
    "class_weight = class_weight.compute_class_weight('balanced', np.unique(Y_trainRos), Y_trainRos)\n",
    "print(\"New Class Weights: \",class_weight)"
   ]
  },
  {
   "cell_type": "code",
   "execution_count": null,
   "metadata": {
    "_cell_guid": "93b04ce9-bca3-4013-8773-e1c77a266c84",
    "_uuid": "f0c80090aa7e90f98cd879d1ec63d8f27d5616b7",
    "collapsed": true
   },
   "outputs": [],
   "source": [
    "#runCNNconfusion(X_trainRosReshaped[:10000], Y_trainRosHot[:10000], X_testRosReshaped[:3000], Y_testRosHot[:3000],class_weight,8,6,1)"
   ]
  },
  {
   "cell_type": "code",
   "execution_count": null,
   "metadata": {
    "_cell_guid": "23d518d8-5098-466a-88e1-0e57dfe3bdf9",
    "_uuid": "7752626cd4509d88b760f60949889c28374a9ba6",
    "collapsed": true
   },
   "outputs": [],
   "source": [
    "vgg16network(X_trainRosReshaped[:10000], Y_trainRosHot[:10000], X_testRosReshaped[:3000], Y_testRosHot[:3000],class_weight,8,15)"
   ]
  },
  {
   "cell_type": "markdown",
   "metadata": {
    "_uuid": "54069df5941947f1514c7a7ac9bfaebe66802172"
   },
   "source": [
    "Our model can predict pathologies in x-ray images with an accuracy rate that is much better than random chance but there is still a lot of room for improvement.  Please see the [following blogpost](https://lukeoakdenrayner.wordpress.com/2017/12/18/the-chestxray14-dataset-problems/) for more detail about specific challenges associated with this dataset . "
   ]
  }
 ],
 "metadata": {
  "kernelspec": {
   "display_name": "Python 3",
   "language": "python",
   "name": "python3"
  },
  "language_info": {
   "codemirror_mode": {
    "name": "ipython",
    "version": 3
   },
   "file_extension": ".py",
   "mimetype": "text/x-python",
   "name": "python",
   "nbconvert_exporter": "python",
   "pygments_lexer": "ipython3",
   "version": "3.6.6"
  }
 },
 "nbformat": 4,
 "nbformat_minor": 1
}
